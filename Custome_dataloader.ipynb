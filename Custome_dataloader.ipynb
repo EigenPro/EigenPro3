{
 "cells": [
  {
   "cell_type": "markdown",
   "id": "cc58a126",
   "metadata": {},
   "source": [
    "In this jupyter notebook, we show how EP3.0 can be used with any custom dataloader through fit_batch() module.\n",
    "Here we create a pytorch data loader for Fashion MNIST data set.\n",
    "\n",
    "First we create dataset and dataloader to visualize the dataset:"
   ]
  },
  {
   "cell_type": "code",
   "execution_count": 1,
   "id": "e989f01b",
   "metadata": {},
   "outputs": [
    {
     "name": "stderr",
     "output_type": "stream",
     "text": [
      "/home/amirhesam/research/kernel/venv_ker/lib/python3.9/site-packages/torchvision/datasets/mnist.py:498: UserWarning: The given NumPy array is not writable, and PyTorch does not support non-writable tensors. This means writing to this tensor will result in undefined behavior. You may want to copy the array to protect its data or make it writable before converting it to a tensor. This type of warning will be suppressed for the rest of this program. (Triggered internally at ../torch/csrc/utils/tensor_numpy.cpp:199.)\n",
      "  return torch.from_numpy(parsed.astype(m[2], copy=False)).view(*s)\n"
     ]
    }
   ],
   "source": [
    "import torch\n",
    "from torchvision import datasets, transforms\n",
    "import matplotlib.pyplot as plt\n",
    "\n",
    "transform = transforms.Compose([transforms.ToTensor()])\n",
    "trainset_tmp = datasets.FashionMNIST('~/', download=True, train=True, transform=transform)\n",
    "trainloader_tmp = torch.utils.data.DataLoader(trainset_tmp, batch_size=10_000, shuffle=True)"
   ]
  },
  {
   "cell_type": "code",
   "execution_count": 2,
   "id": "36c05d97",
   "metadata": {},
   "outputs": [
    {
     "data": {
      "image/png": "[encoded data removed]",
      "text/plain": [
       "<Figure size 576x288 with 12 Axes>"
      ]
     },
     "metadata": {
      "needs_background": "light"
     },
     "output_type": "display_data"
    }
   ],
   "source": [
    "plot_size = 2\n",
    "fig, ax = plt.subplots(3, 4, figsize=(4*plot_size, 2*plot_size))\n",
    "for i in range(12):\n",
    "    image, label = next(iter(trainloader_tmp))\n",
    "    ax[i//4][i%4].imshow(torch.squeeze(image[i,:]),cmap='gray')\n",
    "    ax[i//4][i%4].axis('off')\n",
    "    \n",
    "plt.subplots_adjust(left=0, bottom=0, right=1, top=1, wspace=0.2, hspace=.1)\n",
    "plt.show()"
   ]
  },
  {
   "cell_type": "markdown",
   "id": "835f809b",
   "metadata": {},
   "source": [
    "Loading necessary packages from EP3.0:"
   ]
  },
  {
   "cell_type": "code",
   "execution_count": 3,
   "id": "c995747f",
   "metadata": {},
   "outputs": [],
   "source": [
    "from eigenpro3.utils import accuracy, load_dataset\n",
    "from eigenpro3.datasets import CustomDataset\n",
    "from eigenpro3.models import KernelModel\n",
    "from eigenpro3.kernels import laplacian, ntk_relu\n",
    "from eigenpro3.utils import accuracy,bottomrule, midrule \n",
    "from torch.nn.functional import one_hot\n",
    "import copy"
   ]
  },
  {
   "cell_type": "code",
   "execution_count": 4,
   "id": "54600182",
   "metadata": {},
   "outputs": [
    {
     "name": "stdout",
     "output_type": "stream",
     "text": [
      "Setting up data preconditioner\n",
      "Data: learning rate: 3629.5,batch_size=7259, top eigenvalue:0.12390097975730896, new top eigenvalue:0.00013775394472759217\n",
      "Data preconditioner is ready.\n",
      "Setup time = 11.58 s\n",
      "Done.\n",
      "==================================================\n",
      "Setting up inexact projector\n",
      "Done.\n",
      "-------------------------\n"
     ]
    }
   ],
   "source": [
    "if torch.cuda.is_available():\n",
    "    DEVICES = [torch.device(f'cuda:{i}') for i in range(torch.cuda.device_count())]\n",
    "else:\n",
    "    DEVICES = [torch.device('cpu')]\n",
    "    \n",
    "kernel_fn = lambda x, z: laplacian(x, z, bandwidth=5.0)\n",
    "p = 5_000\n",
    "s = 10_000\n",
    "n_classes = 10\n",
    "\n",
    "\n",
    "centers = trainset_tmp.data[torch.randperm(trainset_tmp.data.shape[0])[:p]].reshape(-1,28*28)/255.0\n",
    "nystrom_samples = trainset_tmp.data[torch.randperm(trainset_tmp.data.shape[0])[:s]].reshape(-1,28*28)/255.0\n",
    "\n",
    "\n",
    "model= KernelModel(n_classes, centers, kernel_fn, nystrom_samples=nystrom_samples,make_dataloader=False,\n",
    "    devices = DEVICES, \n",
    "    multi_gpu=True)\n",
    "\n",
    "\n",
    "##### creating new dataloader using optimal batchsize calculated based on Nystrom\n",
    "transform = transforms.Compose([transforms.ToTensor(),transforms.Normalize((0.1307,), (0.3081,)),transforms.Lambda(lambda x: torch.flatten(x))])\n",
    "trainset = datasets.FashionMNIST('~/', download=True, train=True, transform=transform)\n",
    "trainloader = torch.utils.data.DataLoader(trainset, batch_size=model.batch_size, shuffle=True)\n",
    "testset = datasets.FashionMNIST('~/', download=True, train=False, transform=transform)\n",
    "testloader = torch.utils.data.DataLoader(testset, batch_size=512, shuffle=False)\n"
   ]
  },
  {
   "cell_type": "code",
   "execution_count": null,
   "id": "3887885f",
   "metadata": {
    "scrolled": true
   },
   "outputs": [
    {
     "name": "stdout",
     "output_type": "stream",
     "text": [
      "epoch    0\t batch    2\n",
      "epoch    0\t batch    4\n",
      "epoch    0\t batch    6\n",
      "epoch    0\t batch    8\n",
      "-------------------------\n",
      "epoch    1        Test accuracy: 71.25%\n",
      "==================================================\n",
      "epoch    1\t batch    2\n",
      "epoch    1\t batch    4\n",
      "epoch    1\t batch    6\n",
      "epoch    1\t batch    8\n",
      "-------------------------\n",
      "epoch    2        Test accuracy: 73.07%\n",
      "==================================================\n",
      "epoch    2\t batch    2\n",
      "epoch    2\t batch    4\n",
      "epoch    2\t batch    6\n",
      "epoch    2\t batch    8\n",
      "-------------------------\n",
      "epoch    3        Test accuracy: 74.14%\n",
      "==================================================\n"
     ]
    }
   ],
   "source": [
    "iterations = 15\n",
    "epoch = 0\n",
    "accu_all = []\n",
    "for _ in range(iterations):  \n",
    "    batch_num = 0\n",
    "    for (X_batch, y_batch) in trainloader:\n",
    "        X_batch = X_batch \n",
    "        y_batch = one_hot(y_batch)\n",
    "        ###### fitting the batch\n",
    "        model.fit_batch(X_batch, y_batch)\n",
    "        model.sync_gpus()\n",
    "        torch.cuda.empty_cache()\n",
    "        if (batch_num + 1)%2==0:\n",
    "            print(f'epoch {epoch: 4d}\\t batch {batch_num+1 :4d}')\n",
    "        batch_num += 1\n",
    "        del  X_batch, y_batch\n",
    "    \n",
    "    \n",
    "    accu = accuracy(model.weights,model.centers,testloader,model.kernel,model.device_base)\n",
    "    print(midrule)\n",
    "    print(f'epoch {epoch+1:4d}        Test accuracy: {accu*100.:5.2f}%')\n",
    "    accu_all.append(accu.item())\n",
    "    print(bottomrule)\n",
    "    epoch +=1"
   ]
  },
  {
   "cell_type": "code",
   "execution_count": null,
   "id": "079039cf",
   "metadata": {},
   "outputs": [],
   "source": [
    "plot_size = 2\n",
    "fig, ax = plt.subplots(1, 1, figsize=(plot_size, plot_size))\n",
    "ax.plot(range(len(accu_all)),accu_all_augment.cpu())\n",
    "ax.set_xlabel('epoch')\n",
    "ax.set_ylabel('Test accuracy')\n"
   ]
  },
  {
   "cell_type": "markdown",
   "id": "9fca92ca",
   "metadata": {},
   "source": [
    "At the end, note that pytorch dataloader is slow, and we suggest to use simple batching techniques using manual methods. We provided the dataloader based on pytorch since it is widely used. However, to run large-scale experiments we recommend to avoid pytroch dataloader."
   ]
  },
  {
   "cell_type": "code",
   "execution_count": null,
   "id": "13d9bb0c",
   "metadata": {},
   "outputs": [],
   "source": []
  },
  {
   "cell_type": "markdown",
   "id": "c11ce7e7",
   "metadata": {},
   "source": []
  },
  {
   "cell_type": "code",
   "execution_count": null,
   "id": "a9700501",
   "metadata": {},
   "outputs": [],
   "source": []
  }
 ],
 "metadata": {
  "kernelspec": {
   "display_name": "Python 3 (ipykernel)",
   "language": "python",
   "name": "python3"
  },
  "language_info": {
   "codemirror_mode": {
    "name": "ipython",
    "version": 3
   },
   "file_extension": ".py",
   "mimetype": "text/x-python",
   "name": "python",
   "nbconvert_exporter": "python",
   "pygments_lexer": "ipython3",
   "version": "3.9.7"
  }
 },
 "nbformat": 4,
 "nbformat_minor": 5
}
